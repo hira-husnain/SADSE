{
 "cells": [
  {
   "cell_type": "code",
   "execution_count": null,
   "id": "ddc553d1",
   "metadata": {},
   "outputs": [],
   "source": [
    "!pip install spams\n",
    "import numpy as np\n",
    "import spams\n",
    "batchSize=720\n",
    "param = {'lambda1':0.2,'numThreads' : -1,'mode' : 1}\n",
    "alpha_trans1=[]\n",
    "x_train= np.load('../../../datasets/ORL/ORLdataforSb.npy')\n",
    "\n",
    "alpha_trans1=[]\n",
    "for l in range (0,len(x_train),batchSize):\n",
    "    xtr=x_train[l:l+batchSize].T\n",
    "    alpha=np.zeros((xtr.shape[1],xtr.shape[1]))\n",
    "    for i in range (xtr.shape[1]):\n",
    "        x=xtr[:,i].reshape(400,1)\n",
    "        if i==0:\n",
    "            xf=xtr[:,i+1:].reshape(400,xtr.shape[1]-1)\n",
    "            alpha[0,0]=0\n",
    "            tmp = spams.lasso(x,D =xf ,return_reg_path = False,**param)\n",
    "            #print(tmp)\n",
    "            tmp=tmp.toarray()\n",
    "            #print(tmp.shape)\n",
    "            tmp=tmp.reshape(xtr.shape[1]-1)\n",
    "            alpha[1:,i] = tmp\n",
    "        else:  \n",
    "            dictionary= np.concatenate([xtr[:,:i],xtr[:,i+1:]],axis=1)\n",
    "            xf=dictionary.reshape(400,xtr.shape[1]-1)\n",
    "            tmp = spams.lasso(x,D = xf,return_reg_path = False,**param)\n",
    "            #print(tmp)\n",
    "            tmp=tmp.toarray()\n",
    "            tmp=tmp.reshape(xtr.shape[1]-1)\n",
    "            alpha[:i,i]=tmp[:i]\n",
    "            alpha[i,i]=0\n",
    "            alpha[i+1:,i]=tmp[i:]\n",
    "        alpha_trans1.append(alpha.T)\n",
    "    alpha_trans1=np.array(alpha_trans1)\n",
    "    alpha_trans1=alpha_trans1.astype('float32')\n",
    "    return alpha_trans1\n",
    "np.save('Hs_orl.npy',alpha_trans1)"
   ]
  }
 ],
 "metadata": {
  "kernelspec": {
   "display_name": "Python 3",
   "language": "python",
   "name": "python3"
  },
  "language_info": {
   "codemirror_mode": {
    "name": "ipython",
    "version": 3
   },
   "file_extension": ".py",
   "mimetype": "text/x-python",
   "name": "python",
   "nbconvert_exporter": "python",
   "pygments_lexer": "ipython3",
   "version": "3.6.15"
  }
 },
 "nbformat": 4,
 "nbformat_minor": 5
}
